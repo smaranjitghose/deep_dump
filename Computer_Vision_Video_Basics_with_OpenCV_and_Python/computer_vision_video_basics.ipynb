{
 "cells": [
  {
   "cell_type": "markdown",
   "metadata": {},
   "source": [
    "## Import the libraries\n"
   ]
  },
  {
   "cell_type": "code",
   "execution_count": null,
   "metadata": {},
   "outputs": [],
   "source": [
    "import cv2\n",
    "import numpy as np\n",
    "import matplotlib.pyplot as plt\n",
    "%matplotlib inline"
   ]
  },
  {
   "cell_type": "markdown",
   "metadata": {},
   "source": [
    "# Connect to your computer's camera"
   ]
  },
  {
   "cell_type": "code",
   "execution_count": null,
   "metadata": {},
   "outputs": [],
   "source": [
    "# Capture video\n",
    "cap = cv2.VideoCapture(0)"
   ]
  },
  {
   "cell_type": "markdown",
   "metadata": {},
   "source": [
    "#### 0 means the camera connected to the computer. A video file can also be given as input"
   ]
  },
  {
   "cell_type": "code",
   "execution_count": null,
   "metadata": {},
   "outputs": [],
   "source": [
    "# Get the height and width of the video frame\n",
    "width = int(cap.get(cv2.CAP_PROP_FRAME_WIDTH))\n",
    "height = int(cap.get(cv2.CAP_PROP_FRAME_HEIGHT))"
   ]
  },
  {
   "cell_type": "code",
   "execution_count": null,
   "metadata": {},
   "outputs": [],
   "source": [
    "# Get the writer with the video name,format,fps,width and height\n",
    "output =  cv2.VideoWriter('my_video.mkv',cv2.VideoWriter_fourcc(*'DIVX'),20,(width,height))"
   ]
  },
  {
   "cell_type": "code",
   "execution_count": null,
   "metadata": {},
   "outputs": [],
   "source": [
    "# Reading frame by frame\n",
    "while True:\n",
    "    ret,frame = cap.read()\n",
    "    # Operations\n",
    "    output.write(frame)\n",
    "    # Show it\n",
    "    cv2.imshow('my_video',frame)\n",
    "    # Close it (Don't try to close it using X,it will crash)\n",
    "    if cv2.waitkey(5) & 0xFF == 27:\n",
    "        break\n",
    "# Never forget to release\n",
    "cap.release()\n",
    "output.release()\n",
    "# And then to destroy\n",
    "cv2.destroyAllWindows()\n",
    "        "
   ]
  },
  {
   "cell_type": "markdown",
   "metadata": {},
   "source": [
    "# Open Video Files"
   ]
  },
  {
   "cell_type": "code",
   "execution_count": null,
   "metadata": {},
   "outputs": [],
   "source": [
    "cap = cv2.VideoCapture('videos/my_ouput.pkv')"
   ]
  },
  {
   "cell_type": "code",
   "execution_count": null,
   "metadata": {},
   "outputs": [],
   "source": [
    "# If video can't be opened or path is wrong\n",
    "if cap.isOpened() == False:\n",
    "    print(\"Error in opening video. Check your path\")"
   ]
  },
  {
   "cell_type": "code",
   "execution_count": null,
   "metadata": {
    "scrolled": true
   },
   "outputs": [],
   "source": [
    "# Now playing the video\n",
    "while cap.isOpened():\n",
    "    ret, frame = cap.read()\n",
    "    if ret == True:\n",
    "        # Show it\n",
    "        cv2.imshow('my_video',frame)\n",
    "        # Close it (Don't try to close it using X,it will crash)\n",
    "        if cv2.waitkey(5) & 0xFF == 27:\n",
    "            break\n",
    "# Never forget to release\n",
    "cap.release()\n",
    "# And then to destroy\n",
    "cv2.destroyAllWindows()"
   ]
  },
  {
   "cell_type": "markdown",
   "metadata": {},
   "source": [
    "# Draw on Live Video"
   ]
  },
  {
   "cell_type": "code",
   "execution_count": null,
   "metadata": {},
   "outputs": [],
   "source": [
    "# Capture video\n",
    "cap = cv2.VideoCapture(0)"
   ]
  },
  {
   "cell_type": "code",
   "execution_count": null,
   "metadata": {},
   "outputs": [],
   "source": [
    "# Get the height and width of the video frame\n",
    "width = int(cap.get(cv2.CAP_PROP_FRAME_WIDTH))\n",
    "height = int(cap.get(cv2.CAP_PROP_FRAME_HEIGHT))"
   ]
  },
  {
   "cell_type": "code",
   "execution_count": null,
   "metadata": {},
   "outputs": [],
   "source": [
    "# Top Left Corner\n",
    "x = width // 2\n",
    "y = height // 2"
   ]
  },
  {
   "cell_type": "code",
   "execution_count": null,
   "metadata": {},
   "outputs": [],
   "source": [
    "# Rectangle Width and Height\n",
    "w = width // 4\n",
    "h = height // 4"
   ]
  },
  {
   "cell_type": "code",
   "execution_count": null,
   "metadata": {},
   "outputs": [],
   "source": [
    "# Bottom Right Corner"
   ]
  },
  {
   "cell_type": "code",
   "execution_count": null,
   "metadata": {},
   "outputs": [],
   "source": [
    "# Reading frame by frame\n",
    "while True:\n",
    "    ret,frame = cap.read()\n",
    "    # Rectangle\n",
    "    cv2.rectangle(frame,(x,y),(x+w,y+h),(255,0,255),5)\n",
    "    # Show it\n",
    "    cv2.imshow('my_video',frame)\n",
    "    # Close it (Don't try to close it using X,it will crash)\n",
    "    if cv2.waitkey(3) & 0xFF == 27:\n",
    "        break\n",
    "# Never forget to release\n",
    "cap.release()\n",
    "# And then to destroy\n",
    "cv2.destroyAllWindows()"
   ]
  },
  {
   "cell_type": "markdown",
   "metadata": {},
   "source": [
    "# Interactive Drawing"
   ]
  },
  {
   "cell_type": "code",
   "execution_count": null,
   "metadata": {},
   "outputs": [],
   "source": [
    "def draw_rectangle(event, x, y,flags,param):\n",
    "    \n",
    "    global pt1,pt2,top_left_clicked,bottom_right_clicked\n",
    "   \n",
    "    # Create an even for left button down \n",
    "    if event == cv2.EVENT_LBUTTONDOWN:\n",
    "        \n",
    "        # Reset your rectangle\n",
    "        if top_left_clicked == True and bottom_right_clicked == True:\n",
    "            \n",
    "            #Give 0 values to pt1 and pt2\n",
    "            pt1 = (0,0)\n",
    "            pt2 = (0,0)\n",
    "            \n",
    "            #Give False values to your Trackers\n",
    "            top_left_clicked = False\n",
    "            bottom_right_clicked == False\n",
    "       \n",
    "       # Check if top_left_clicked is False\n",
    "        if top_left_clicked = False:\n",
    "            pt1 = (x,y)\n",
    "            top_left_clicked = True\n",
    "        \n",
    "        #Check if bottom_right_clicked is False\n",
    "        if top_left_clicked = False:\n",
    "            pt2 = (x,y)\n",
    "            bottom_right_clicked = True\n",
    "\n",
    "# pt1, pt2 are global variables\n",
    "pt1 = (0,0)\n",
    "pt2 = (0,0)\n",
    "\n",
    "# Trackers are false\n",
    "top_left_clicked = False\n",
    "bottom_right_clicked == False\n",
    "       \n",
    "# Take a video\n",
    "cap = cv2.VideoCapture(0)\n",
    "\n",
    "# Open a named Window for Connections\n",
    "cv2.namedWindow('Test')\n",
    "\n",
    "# Set a mouse call back\n",
    "cv2.setMouseCallback('Test',draw_rectangle)\n",
    "\n",
    "# Reading frame by frame\n",
    "while True:\n",
    "    ret,frame = cap.read()\n",
    "    \n",
    "    # Based on Global variables draw frame\n",
    "    if top_left_clicked = True:\n",
    "        # Draw Circle on frame\n",
    "        cv2.circle(frame,center=pt1,radius=5,color=(255,0,255),thicknes=-1)\n",
    "        # Draw rectangle on the Frame\n",
    "    if top_left_clicked == True and bottom_right_clicked == True:\n",
    "        cv2.rectangle(frame,pt1,pt2,(0,255,0),8)\n",
    "    \n",
    "    # Show it\n",
    "    cv2.imshow('my_video',frame)\n",
    "    \n",
    "    # Close it (Don't try to close it using X,it will crash)\n",
    "    if cv2.waitkey(3) & 0xFF == 27:\n",
    "        break\n",
    "\n",
    "# Never forget to release\n",
    "cap.release()\n",
    "\n",
    "# And then to destroy\n",
    "cv2.destroyAllWindows()"
   ]
  },
  {
   "cell_type": "code",
   "execution_count": null,
   "metadata": {},
   "outputs": [],
   "source": [
    "def draw_circle(event, x, y,flags,param):\n",
    "     \n",
    "    global center,clicked\n",
    "    # Get the Mouse Click Down and Up\n",
    "    # and Track the Center\n",
    "    if event == cv2.EVENT_LBUTTONDOWN:\n",
    "        \n",
    "        center = (x,y)\n",
    "        clicked = False\n",
    "    \n",
    "    if event == cv2.EVENT_LBUTTONUP:\n",
    "        \n",
    "        clicked = True\n",
    "\n",
    "\n",
    "# Zero Drawing of the circle\n",
    "center = (0,0)\n",
    "clicked = False\n",
    "\n",
    "# Take a video\n",
    "cap = cv2.VideoCapture(0)\n",
    "\n",
    "# Open a named Window for Connections\n",
    "cv2.namedWindow('Test')\n",
    "\n",
    "# Set a mouse call back\n",
    "cv2.setMouseCallback('Test',draw_circle)\n",
    "\n",
    "# Reading frame by frame\n",
    "while True:\n",
    "    ret,frame = cap.read()\n",
    "    \n",
    "    # # Draw Circle on frame\n",
    "    if clicked:\n",
    "        cv2.circle(frame,center=center,radius=50,color=(0,255,0),thicknes=-1)\n",
    "    \n",
    "    # Show it\n",
    "    cv2.imshow('my_video',frame)\n",
    "    \n",
    "    # Close it (Don't try to close it using X,it will crash)\n",
    "    if cv2.waitkey(3) & 0xFF == 27:\n",
    "        break\n",
    "\n",
    "# Never forget to release\n",
    "cap.release()\n",
    "\n",
    "# And then to destroy\n",
    "cv2.destroyAllWindows()"
   ]
  },
  {
   "cell_type": "markdown",
   "metadata": {},
   "source": [
    "# Face Detection"
   ]
  },
  {
   "cell_type": "code",
   "execution_count": null,
   "metadata": {},
   "outputs": [],
   "source": [
    "face_cascade = cv2.CascadeClassifier('haarcascade_frontalface_default.xml')\n",
    "def detect_face(img):\n",
    "    \n",
    "    face_img = img.copy()\n",
    "    face_rectange = face_cascasde.detectMultiscale(face_img)\n",
    "    \n",
    "    for (x,y,w,h) in face_rectangle:\n",
    "        cv2.rectangle(face_img,(x,y),(x+w,y+h),(0,255,0),8)\n",
    "    return face_img\n",
    "        "
   ]
  },
  {
   "cell_type": "code",
   "execution_count": null,
   "metadata": {},
   "outputs": [],
   "source": [
    "# Live Face Detection\n",
    "cap = cv2.VideoCapture(0)\n",
    "\n",
    "while True:\n",
    "    ret, frame = cap.read()\n",
    "    cv2.imshow('Face Detection')"
   ]
  }
 ],
 "metadata": {
  "kernelspec": {
   "display_name": "Python 3",
   "language": "python",
   "name": "python3"
  },
  "language_info": {
   "codemirror_mode": {
    "name": "ipython",
    "version": 3
   },
   "file_extension": ".py",
   "mimetype": "text/x-python",
   "name": "python",
   "nbconvert_exporter": "python",
   "pygments_lexer": "ipython3",
   "version": "3.7.4"
  },
  "toc": {
   "base_numbering": 1,
   "nav_menu": {},
   "number_sections": false,
   "sideBar": false,
   "skip_h1_title": false,
   "title_cell": "Table of Contents",
   "title_sidebar": "Contents",
   "toc_cell": false,
   "toc_position": {},
   "toc_section_display": false,
   "toc_window_display": false
  }
 },
 "nbformat": 4,
 "nbformat_minor": 2
}
